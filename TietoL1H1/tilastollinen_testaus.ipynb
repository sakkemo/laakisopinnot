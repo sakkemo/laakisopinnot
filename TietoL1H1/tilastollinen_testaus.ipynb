{
 "metadata": {
  "name": "",
  "signature": "sha256:433d3d7f335c3631aca726c67ab3b5dc635618a5cbb10863a7aaf2f8f5df887e"
 },
 "nbformat": 3,
 "nbformat_minor": 0,
 "worksheets": [
  {
   "cells": [
    {
     "cell_type": "heading",
     "level": 1,
     "metadata": {},
     "source": [
      "Tilastollisesta testauksesta\n",
      "\n"
     ]
    },
    {
     "cell_type": "markdown",
     "metadata": {},
     "source": [
      "Esipuhe\n",
      "=======\n",
      "\n",
      "En ole tilastotieteen ammattilainen, mutta vihaan huonosti opetettua tilastotiedett\u00e4. Pid\u00e4n siit\u00e4 tarpeeksi, ett\u00e4 opiskelin alaan liittyv\u00e4n tutkinnon.\n",
      "\n",
      "Tilastollinen testaus\n",
      "=====================\n",
      "\n",
      "Frekventistisell\u00e4 tilastollisella testauksella pyrit\u00e4\u00e4n vastaamaan kysymykseen, miten usein saadun otoksen kaltainen tulos saataisiin sattumasta johtuen, mik\u00e4li allaolevasta jakaumasta tehdyt oletukset pit\u00e4v\u00e4t paikkansa. Testauksen tavoitteena onkin osoittaa, voisiko havaitun kaltainen otos tulla oletetusta jakaumasta, joka voi olla esimerkiksi terveiden ihmisten mittaustulosten jakauma.\n",
      "\n",
      "Tilastollinen testaus ei vastaa kysymykseen, miten todenn\u00e4k\u00f6ist\u00e4 havaitun kaltainen otos on saada, vaikka p-arvon tulkinta n\u00e4in onkin houkuttelevaa.\n",
      "\n",
      "Testaukseen liittyv\u00e4t k\u00e4sitteet\n",
      "===============================\n",
      "\n",
      "p-arvo kertoo, kuinka usein saadusta otoksesta laskettu testisuure (tai \u00e4\u00e4rimm\u00e4isempi arvo) saataisiin, mik\u00e4li nollahypoteesin oletukset pit\u00e4v\u00e4t paikkansa. "
     ]
    },
    {
     "cell_type": "code",
     "collapsed": false,
     "input": [
      "from numpy.random import randn\n",
      "import numpy as np\n",
      "from scipy.stats import ttest_1samp\n",
      "from scipy.stats import norm"
     ],
     "language": "python",
     "metadata": {},
     "outputs": []
    },
    {
     "cell_type": "markdown",
     "metadata": {},
     "source": [
      "Simuloimalla otoksia jakaumasta on mahdollista osoittaa p-arvon tulkinta yksinkertaisissa tapauksissa. Jos satunnaismuuttuja noudattaa normaalijakaumaan $\\mathcal{N}(0,1)$"
     ]
    },
    {
     "cell_type": "code",
     "collapsed": false,
     "input": [
      "k = 0;\n",
      "N = 10000;\n",
      "for i in range(0,N):\n",
      "    k = k + int(np.mean(randn(10)) > 0.5)\n",
      "k/N"
     ],
     "language": "python",
     "metadata": {},
     "outputs": [
      {
       "metadata": {},
       "output_type": "pyout",
       "prompt_number": 70,
       "text": [
        "0.0543"
       ]
      }
     ],
     "prompt_number": 70
    },
    {
     "cell_type": "code",
     "collapsed": false,
     "input": [
      "norm.cdf(-1.581)"
     ],
     "language": "python",
     "metadata": {},
     "outputs": [
      {
       "metadata": {},
       "output_type": "pyout",
       "prompt_number": 52,
       "text": [
        "0.056939018867725857"
       ]
      }
     ],
     "prompt_number": 52
    },
    {
     "cell_type": "code",
     "collapsed": false,
     "input": [
      "sum([1 if np.mean(randn(10)) > 0.5 else 0 for i in range(0,N) ]) / N"
     ],
     "language": "python",
     "metadata": {},
     "outputs": [
      {
       "metadata": {},
       "output_type": "pyout",
       "prompt_number": 61,
       "text": [
        "0.05699"
       ]
      }
     ],
     "prompt_number": 61
    },
    {
     "cell_type": "code",
     "collapsed": false,
     "input": [],
     "language": "python",
     "metadata": {},
     "outputs": []
    },
    {
     "cell_type": "code",
     "collapsed": false,
     "input": [],
     "language": "python",
     "metadata": {},
     "outputs": []
    },
    {
     "cell_type": "code",
     "collapsed": false,
     "input": [],
     "language": "python",
     "metadata": {},
     "outputs": []
    },
    {
     "cell_type": "code",
     "collapsed": false,
     "input": [],
     "language": "python",
     "metadata": {},
     "outputs": []
    },
    {
     "cell_type": "code",
     "collapsed": false,
     "input": [
      "t = (0-0.5)/(1/np.sqrt(10))\n",
      "print(t)\n",
      ".074282"
     ],
     "language": "python",
     "metadata": {},
     "outputs": [
      {
       "output_type": "stream",
       "stream": "stdout",
       "text": [
        "-1.58113883008\n"
       ]
      },
      {
       "metadata": {},
       "output_type": "pyout",
       "prompt_number": 37,
       "text": [
        "0.074282"
       ]
      }
     ],
     "prompt_number": 37
    }
   ],
   "metadata": {}
  }
 ]
}